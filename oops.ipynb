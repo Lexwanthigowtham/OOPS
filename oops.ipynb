{
 "cells": [
  {
   "cell_type": "markdown",
   "id": "004e079b-a53e-455a-bf3d-c0e92dfc8f19",
   "metadata": {},
   "source": [
    "# OOPS\n"
   ]
  },
  {
   "cell_type": "code",
   "execution_count": 18,
   "id": "6460c64e-0e28-41c9-9935-b4c0503c3f36",
   "metadata": {},
   "outputs": [],
   "source": [
    "#Problem 1: Bank Account Create a class representing a bank account with attributes like account number, account holder name, and balance. \n",
    "#Implement methods to deposit and withdraw money from the account.\n",
    "class bank_account:\n",
    "    def __init__(self,name,number,balance):\n",
    "        self.name_of_holder=name\n",
    "        self.number_of_holder=number\n",
    "        self.balance_of_holder=balance\n",
    "    def deposite(self,amount):\n",
    "        print('im trying to deposite', amount, 'in my account')\n",
    "    def with_draw(self,with_draw):\n",
    "        print('withdraw amount',with_draw)"
   ]
  },
  {
   "cell_type": "code",
   "execution_count": 19,
   "id": "711b05ad-f142-4639-98f6-becf12fde915",
   "metadata": {},
   "outputs": [
    {
     "name": "stdout",
     "output_type": "stream",
     "text": [
      "im trying to deposite 45000 in my account\n",
      "withdraw amount 5678\n"
     ]
    }
   ],
   "source": [
    "a=bank_account('gowtham','12345','3000')\n",
    "a.deposite(45000)\n",
    "a.with_draw(5678)"
   ]
  },
  {
   "cell_type": "code",
   "execution_count": 13,
   "id": "a10d5d99-8d57-494b-b896-930a37fb693d",
   "metadata": {},
   "outputs": [
    {
     "name": "stdout",
     "output_type": "stream",
     "text": [
      "Original Employee Details:\n",
      "\n",
      "Name:  ADAMS\n",
      "ID:  E7876\n",
      "Salary:  50000\n",
      "Department:  ACCOUNTING\n",
      "----------------------\n",
      "\n",
      "Name:  JONES\n",
      "ID:  E7499\n",
      "Salary:  45000\n",
      "Department:  RESEARCH\n",
      "----------------------\n",
      "\n",
      "Name:  MARTIN\n",
      "ID:  E7900\n",
      "Salary:  50000\n",
      "Department:  SALES\n",
      "----------------------\n",
      "\n",
      "Name:  SMITH\n",
      "ID:  E7698\n",
      "Salary:  55000\n",
      "Department:  OPERATIONS\n",
      "----------------------\n",
      "Updated Employee Details:\n",
      "\n",
      "Name:  ADAMS\n",
      "ID:  E7876\n",
      "Salary:  50000\n",
      "Department:  OPERATIONS\n",
      "----------------------\n",
      "\n",
      "Name:  JONES\n",
      "ID:  E7499\n",
      "Salary:  46800.0\n",
      "Department:  RESEARCH\n",
      "----------------------\n",
      "\n",
      "Name:  MARTIN\n",
      "ID:  E7900\n",
      "Salary:  50000\n",
      "Department:  SALES\n",
      "----------------------\n",
      "\n",
      "Name:  SMITH\n",
      "ID:  E7698\n",
      "Salary:  66000.0\n",
      "Department:  SALES\n",
      "----------------------\n"
     ]
    }
   ],
   "source": [
    "#Problem 2: Employee Management Create a class representing an employee with attributes like employee ID, name, and salary. \n",
    "#Implement methods to calculate the yearly bonus and display employee details.\n",
    "\n",
    "class Employee:\n",
    "    def __init__(self, name, emp_id, salary, department):\n",
    "        self.name = name\n",
    "        self.id = emp_id\n",
    "        self.salary = salary\n",
    "        self.department = department\n",
    "\n",
    "    def calculate_salary(self, salary, hours_worked):\n",
    "        overtime = 0\n",
    "        if hours_worked > 50:\n",
    "            overtime = hours_worked - 50\n",
    "        self.salary = self.salary + (overtime * (self.salary / 50))\n",
    "\n",
    "    def assign_department(self, emp_department):\n",
    "        self.department = emp_department\n",
    "\n",
    "    def print_employee_details(self):\n",
    "        print(\"\\nName: \", self.name)\n",
    "        print(\"ID: \", self.id)\n",
    "        print(\"Salary: \", self.salary)\n",
    "        print(\"Department: \", self.department)\n",
    "        print(\"----------------------\")\n",
    "\n",
    "\n",
    "employee1 = Employee(\"ADAMS\", \"E7876\", 50000, \"ACCOUNTING\")\n",
    "employee2 = Employee(\"JONES\", \"E7499\", 45000, \"RESEARCH\")\n",
    "employee3 = Employee(\"MARTIN\", \"E7900\", 50000, \"SALES\")\n",
    "employee4 = Employee(\"SMITH\", \"E7698\", 55000, \"OPERATIONS\")\n",
    "\n",
    "print(\"Original Employee Details:\")\n",
    "employee1.print_employee_details()\n",
    "employee2.print_employee_details()\n",
    "employee3.print_employee_details()\n",
    "employee4.print_employee_details()\n",
    "\n",
    "# Change the departments of employee1 and employee4\n",
    "employee1.assign_department(\"OPERATIONS\")\n",
    "employee4.assign_department(\"SALES\")\n",
    "\n",
    "# Now calculate the overtime of the employees who are eligible:\n",
    "employee2.calculate_salary(45000, 52)\n",
    "employee4.calculate_salary(45000, 60)\n",
    "\n",
    "print(\"Updated Employee Details:\")\n",
    "employee1.print_employee_details()\n",
    "employee2.print_employee_details()\n",
    "employee3.print_employee_details()\n",
    "employee4.print_employee_details()\n",
    "\n"
   ]
  },
  {
   "cell_type": "code",
   "execution_count": 9,
   "id": "8304cfe3-0e63-44b0-8df0-21200483ab15",
   "metadata": {},
   "outputs": [],
   "source": [
    "#problem3:Vehicle Rental Create a class representing a vehicle rental system. \n",
    "#Implement methods to rent a vehicle, return a vehicle, and display available vehicles.\n",
    "class vehicle:\n",
    "    def __init__(self,rent,ret_urn,display):\n",
    "        self.rent_of_vehicle=rent\n",
    "        self.ret_urn_of_vehicle=ret_urn\n",
    "        self.display_of_vehicle=display\n",
    "        \n",
    "        def extract_details(self):\n",
    "            print(self.rent_of_vehicle,self.ret_urn_of_vehicle,self.display_of_vehicle)\n",
    "            \n",
    "    \n",
    "\n"
   ]
  },
  {
   "cell_type": "code",
   "execution_count": 11,
   "id": "db24601e-4771-40b8-9964-a96435c1b08a",
   "metadata": {},
   "outputs": [],
   "source": [
    "mahindra=vehicle('5,00,000','2,00,000','kia')\n",
    "suz=vehicle('4,00,000','3,00,000','i20')"
   ]
  },
  {
   "cell_type": "code",
   "execution_count": 12,
   "id": "a5d7a8ed-200d-467b-b687-9f01b73f8e4f",
   "metadata": {},
   "outputs": [
    {
     "data": {
      "text/plain": [
       "'kia'"
      ]
     },
     "execution_count": 12,
     "metadata": {},
     "output_type": "execute_result"
    }
   ],
   "source": [
    "mahindra.display_of_vehicle\n"
   ]
  },
  {
   "cell_type": "code",
   "execution_count": 7,
   "id": "cde14492-4151-4461-8e03-be048c505119",
   "metadata": {},
   "outputs": [],
   "source": [
    "#Problem 4: Library Catalog Create classes representing a library and a book.\n",
    "#Implement methods to add books to the library, borrow books, and display available books\n",
    "\n",
    "class library:\n",
    "    def __init__(self,add_book,borrow,display):\n",
    "        self.add_book_to_library=add_book\n",
    "        self.borrow_book=borrow\n",
    "        self.display_available_books=display\n",
    "        \n",
    "        def extract(self):\n",
    "            print(self.add_book_to_library,self.borrow_book,self.display_available_books)\n",
    "            "
   ]
  },
  {
   "cell_type": "code",
   "execution_count": 18,
   "id": "5955f830-4f24-44e0-ae06-8f019bb62550",
   "metadata": {},
   "outputs": [],
   "source": [
    "lexi=library('add-tamilbooks','borrow-comicbooks','display-gkbooks')\n",
    "gowy=library('add-novel books','borrow-science','display-jokes')"
   ]
  },
  {
   "cell_type": "code",
   "execution_count": 9,
   "id": "b5f2bc6a-3787-429b-83aa-a33661705402",
   "metadata": {},
   "outputs": [
    {
     "data": {
      "text/plain": [
       "'add-novel books'"
      ]
     },
     "execution_count": 9,
     "metadata": {},
     "output_type": "execute_result"
    }
   ],
   "source": [
    "gowy.add_book_to_library"
   ]
  },
  {
   "cell_type": "code",
   "execution_count": 1,
   "id": "fac60ef5-1cce-4c12-95d8-3854db1c35bd",
   "metadata": {},
   "outputs": [],
   "source": [
    "#Problem 5: Product Inventory Create classes representing a product and an inventory system.\n",
    "#Implement methods to add products to the inventory, update product quantity, and display available products.\n",
    "class inventory:\n",
    "    def __init__(self,add,update,display):\n",
    "        self.add_product=add\n",
    "        self.update_products=update\n",
    "        self.display_product=display\n",
    "        \n",
    "        def extract(self):\n",
    "            print(self.add_product,self.update_products,self.display_product)\n",
    "            \n"
   ]
  },
  {
   "cell_type": "code",
   "execution_count": 2,
   "id": "1b68a374-f723-40e8-8b79-19240832ea45",
   "metadata": {},
   "outputs": [],
   "source": [
    "vishu=inventory('add-undereyecream','update-lipbalms','display-lorealproducts')\n",
    "venky=inventory('add-dyeproducts','update-footscrubbers','display-tressameproducts')\n"
   ]
  },
  {
   "cell_type": "code",
   "execution_count": 5,
   "id": "e5ecf460-bed1-469f-920e-65265a56311c",
   "metadata": {},
   "outputs": [
    {
     "data": {
      "text/plain": [
       "'add-undereyecream'"
      ]
     },
     "execution_count": 5,
     "metadata": {},
     "output_type": "execute_result"
    }
   ],
   "source": [
    "vishu.add_product"
   ]
  },
  {
   "cell_type": "code",
   "execution_count": 25,
   "id": "eabbffc6-a29b-4c50-8bed-28aaaba326a5",
   "metadata": {},
   "outputs": [],
   "source": [
    "#Problem 6: Shape Calculation Create a class representing a shape with attributes like length, width, and height.\n",
    "#Implement methods to calculate the area and perimeter of the shape.\n",
    "class rectangle:\n",
    "    def __init__(self,length,width,height):\n",
    "        self.rec_length=length\n",
    "        self.rec_width=width\n",
    "        self.rec_heigth=height\n",
    "        area=length*width\n",
    "    def area(self,area):\n",
    "        print('area',area)\n",
    "        "
   ]
  },
  {
   "cell_type": "code",
   "execution_count": null,
   "id": "5bac7a62-396c-4cb9-9072-45040bbcf838",
   "metadata": {},
   "outputs": [
    {
     "name": "stdout",
     "output_type": "stream",
     "text": [
      "area 8\n"
     ]
    }
   ],
   "source": [
    "a=rectangle(2,4,6)\n",
    "a.area(2*4)"
   ]
  },
  {
   "cell_type": "code",
   "execution_count": 7,
   "id": "80d0d65c-3963-4d54-8f87-625196e27393",
   "metadata": {},
   "outputs": [],
   "source": [
    "#problem7: student id \n",
    "class library:\n",
    "    def __init__(self,mailid,name,grade):\n",
    "        self.student_mail_id=mailid\n",
    "        self.student_name=name\n",
    "        self.student_grade=grade\n",
    "        \n",
    "        def extract(self):\n",
    "            print(self.student_mailid,self.student_name,self.student_grade)\n",
    "            "
   ]
  },
  {
   "cell_type": "code",
   "execution_count": 8,
   "id": "16e20207-8e31-4fc5-bcab-edc24f20852c",
   "metadata": {},
   "outputs": [],
   "source": [
    "a=library('mam@gmail.com','mamtha','0+')\n",
    "b=library('lex@gmail.com','lexi','A')"
   ]
  },
  {
   "cell_type": "code",
   "execution_count": 9,
   "id": "96f71fc6-6aa8-4044-9b6f-1aee2060e18f",
   "metadata": {},
   "outputs": [
    {
     "data": {
      "text/plain": [
       "'mam@gmail.com'"
      ]
     },
     "execution_count": 9,
     "metadata": {},
     "output_type": "execute_result"
    }
   ],
   "source": [
    "a.student_mail_id"
   ]
  },
  {
   "cell_type": "code",
   "execution_count": 30,
   "id": "8e82b1c4-9e10-4a51-a95e-4b1c523d705e",
   "metadata": {},
   "outputs": [],
   "source": [
    "#Problem 8: Email Management Create a class representing an email with attributes like sender, recipient, and subject. \n",
    "#Implement methods to send an email and display email details.\n",
    "class email_management:\n",
    "    def __init__(self,sender,recipient,subject):\n",
    "        self.sender_of_emai=sender\n",
    "        self.recipient_of_email=recipient\n",
    "        self.subject_of_emai=subject\n",
    "    def send(self,name):\n",
    "        print('hello myself',name,'how was your business?')\n",
    "    def display(self,profit):\n",
    "        print('is this amount',profit,'is profit of this year,can you give quick replay to my email.')"
   ]
  },
  {
   "cell_type": "code",
   "execution_count": 31,
   "id": "9ebbe9a0-10f2-4b87-9b01-354f257723aa",
   "metadata": {},
   "outputs": [
    {
     "name": "stdout",
     "output_type": "stream",
     "text": [
      "hello myself lexi how was your business?\n",
      "is this amount 5,00,000 is profit of this year,can you give quick replay to my email\n"
     ]
    }
   ],
   "source": [
    "p1=email_management('lexi','gow_traders','business_profit')\n",
    "p1.send('lexi')\n",
    "p1.display('5,00,000')"
   ]
  },
  {
   "cell_type": "code",
   "execution_count": 8,
   "id": "aa7370f4-4149-4ac1-8e0a-1edd8c1c0cac",
   "metadata": {},
   "outputs": [],
   "source": [
    "#Problem 9: Social Media Profile Create a class representing a social media profile with attributes like username and posts.\n",
    "#Implement methods to add posts, display posts, and search for posts by keyword.\n",
    "class profile:\n",
    "    def __init__(self,user_name,post):\n",
    "        self.user_name=user_name\n",
    "        self.post=post\n",
    "    def add_post(self,add):\n",
    "        print(add,'your post is added sucessfully')\n",
    "    def display(self,display):\n",
    "        print('displayed your post',display)\n",
    "    def search(self,search):\n",
    "        print('search using your keypad',search)\n"
   ]
  },
  {
   "cell_type": "code",
   "execution_count": 9,
   "id": "007c4148-1c58-4cf9-b776-baf6086a6c41",
   "metadata": {},
   "outputs": [
    {
     "name": "stdout",
     "output_type": "stream",
     "text": [
      "dailycafe your post is added sucessfully\n",
      "displayed your post today 5 am\n",
      "search using your keypad ##dailycafe\n"
     ]
    }
   ],
   "source": [
    "yash=profile('yash20','40')\n",
    "yash.add_post('dailycafe')\n",
    "yash.display('today 5 am')\n",
    "yash.search('##dailycafe')"
   ]
  },
  {
   "cell_type": "code",
   "execution_count": 13,
   "id": "d8b08ead-3b8f-44ff-8a40-04e2db8ff501",
   "metadata": {},
   "outputs": [],
   "source": [
    "#Problem 10: ToDo List Create a class representing a ToDo list with attributes like tasks and due dates.\n",
    "#Implement methods to add tasks, mark tasks as completed, and display pending tasks.\n",
    "\n",
    "class todo:\n",
    "    def __init__(self,task,duedates):\n",
    "        self.task_name=task\n",
    "        self.due_dates=duedates\n",
    "    def add_task(self,add):\n",
    "        print(add,'your task will done sucessfully')\n",
    "    def display(self,display):\n",
    "        print('displayed your pending task',display)\n",
    "    def mark(self,mark):\n",
    "        print('given',mark)\n",
    "        \n"
   ]
  },
  {
   "cell_type": "code",
   "execution_count": 14,
   "id": "f2c833dc-dc18-4690-bad0-eca3cb91667f",
   "metadata": {},
   "outputs": [
    {
     "name": "stdout",
     "output_type": "stream",
     "text": [
      "add pool setup in your blue print your task will done sucessfully\n",
      "displayed your pending task food court is still pending\n",
      "given 50 marks for your effort\n"
     ]
    }
   ],
   "source": [
    "josh=todo('constructing mall blue print','2weeks')\n",
    "josh.add_task('add pool setup in your blue print')\n",
    "josh.display('food court is still pending')\n",
    "josh.mark('50 marks for your effort')"
   ]
  },
  {
   "cell_type": "code",
   "execution_count": null,
   "id": "7ac394e2-c68e-4c2c-a564-39566afde54f",
   "metadata": {},
   "outputs": [],
   "source": []
  }
 ],
 "metadata": {
  "kernelspec": {
   "display_name": "Python 3 (ipykernel)",
   "language": "python",
   "name": "python3"
  },
  "language_info": {
   "codemirror_mode": {
    "name": "ipython",
    "version": 3
   },
   "file_extension": ".py",
   "mimetype": "text/x-python",
   "name": "python",
   "nbconvert_exporter": "python",
   "pygments_lexer": "ipython3",
   "version": "3.10.8"
  },
  "toc-autonumbering": true,
  "toc-showcode": true
 },
 "nbformat": 4,
 "nbformat_minor": 5
}
